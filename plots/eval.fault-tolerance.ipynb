{
 "cells": [
  {
   "cell_type": "code",
   "execution_count": 1,
   "metadata": {},
   "outputs": [],
   "source": [
    "import os, re, sys, argparse, glob\n",
    "import numpy as np\n",
    "from network_topology import *\n",
    "from matplotlib_helper import *\n",
    "from common_util import *\n",
    "from math import sqrt\n",
    "import math\n",
    "from collections import OrderedDict\n",
    "import matplotlib.pyplot as plt\n",
    "from matplotlib.ticker import *"
   ]
  },
  {
   "cell_type": "code",
   "execution_count": 2,
   "metadata": {},
   "outputs": [],
   "source": [
    "ROOT_DIR = os.path.expanduser('../data/3.fault-tolerance/failure-vs-path-length')"
   ]
  },
  {
   "cell_type": "code",
   "execution_count": 5,
   "metadata": {},
   "outputs": [],
   "source": [
    "def parse_flow_path_stats_file(filename):\n",
    "    path_length_by_fail_rate = {}\n",
    "    regex_odd = re.compile(r'Processing file \"([\\d.]+)/exp(\\d+)/flow-paths.txt.tm0\"')\n",
    "    regex_even = re.compile(r'Average hop count: ([\\d.]+)')\n",
    "    line_num = 1\n",
    "    fail_rate = None\n",
    "    for line in open(filename):\n",
    "        line = line.strip()\n",
    "        if line_num % 2 == 1:\n",
    "            # odd lines, e.g. \"Processing file \"0.00/exp1/flow-paths.txt.tm0\" ...\"\n",
    "            m = regex_odd.match(line)\n",
    "            assert m, 'Cannot parse \"%s\"' % line\n",
    "            fail_rate = float(m.group(1))\n",
    "            exp_num = int(m.group(2))\n",
    "        else:\n",
    "            # even lines, e.g. \"Average hop count: 4.54\"\n",
    "            # note: hop count includes all \"Queue\"s, thus rack-to-rack hops should be decremented by 2\n",
    "            m = regex_even.match(line)\n",
    "            assert m, 'Cannot parse \"%s\"' % line\n",
    "            hop_count = float(m.group(1))\n",
    "            path_length = hop_count - 2 # convert server-to-server to rack-to-rack\n",
    "            if fail_rate not in path_length_by_fail_rate:\n",
    "                path_length_by_fail_rate[fail_rate] = []\n",
    "            path_length_by_fail_rate[fail_rate].append(path_length)\n",
    "            fail_rate = None\n",
    "        line_num += 1\n",
    "    print('Parsed %d entries from file \"%s\"' % (line_num // 2, filename), file=sys.stderr)\n",
    "    return path_length_by_fail_rate"
   ]
  },
  {
   "cell_type": "code",
   "execution_count": 6,
   "metadata": {},
   "outputs": [
    {
     "name": "stderr",
     "output_type": "stream",
     "text": [
      "Parsed 340 entries from file \"../data/3.fault-tolerance/failure-vs-path-length/single/flow-paths.stats.txt\"\n",
      "[ Serial low-bw ]\n",
      "x\t: 0, 1, 2, 3, 4, 5, 6, 7, 8, 9, 10, 15, 20, 25\n",
      "y\t: 2.54, 2.55, 2.55, 2.56, 2.57, 2.58, 2.58, 2.59, 2.6, 2.61, 2.62, 2.67, 2.73, 2.81\n",
      "yerr\t: 0.00218, 0.00433, 0.00433, 0.00497, 0.003, 0.00458, 0.00572, 0.00583, 0.00622, 0.00589, 0.00497, 0.00654, 0.0102, 0.0119\n",
      "Parsed 340 entries from file \"../data/3.fault-tolerance/failure-vs-path-length/homogeneous/flow-paths.stats.txt\"\n",
      "[ Parallel homogeneous ]\n",
      "x\t: 0, 1, 2, 3, 4, 5, 6, 7, 8, 9, 10, 15, 20, 25\n",
      "y\t: 2.54, 2.54, 2.54, 2.54, 2.54, 2.54, 2.54, 2.54, 2.54, 2.54, 2.54, 2.54, 2.54, 2.55\n",
      "yerr\t: 0.00218, 0.00218, 0.00218, 0.00218, 0.00218, 0.00218, 0.00218, 0.00218, 0.00218, 0.00218, 0.00218, 0, 0.005, 0.004\n",
      "Parsed 340 entries from file \"../data/3.fault-tolerance/failure-vs-path-length/heterogeneous/flow-paths.stats.txt\"\n",
      "[ Parallel heterogeneous ]\n",
      "x\t: 0, 1, 2, 3, 4, 5, 6, 7, 8, 9, 10, 15, 20, 25\n",
      "y\t: 1.94, 1.95, 1.95, 1.96, 1.97, 1.97, 1.98, 1.99, 2, 2.01, 2.01, 2.06, 2.11, 2.16\n",
      "yerr\t: 4.44e-16, 0.004, 0.00218, 2.22e-16, 0.00458, 0.0049, 0.003, 0.00316, 0.00357, 0.00497, 0.00433, 0.00477, 0.00477, 0.00557\n"
     ]
    },
    {
     "data": {
      "image/png": "[encoded data removed]",
      "text/plain": [
       "<Figure size 432x288 with 1 Axes>"
      ]
     },
     "metadata": {
      "needs_background": "light"
     },
     "output_type": "display_data"
    }
   ],
   "source": [
    "experiments = [ 'single', 'homogeneous', 'heterogeneous']\n",
    "\n",
    "plot_percentage = False\n",
    "\n",
    "MARKER_INDEX = {\n",
    "    'single': 1,\n",
    "    'large': 1,\n",
    "    'homogeneous': 2,\n",
    "    'heterogeneous': 3,\n",
    "}\n",
    "\n",
    "COLORS = {\n",
    "    'single': '#1f77b4',\n",
    "    'homogeneous': '#ff7f0e',\n",
    "    'heterogeneous': '#2ca02c',\n",
    "    'large': '#d62728',\n",
    "}\n",
    "\n",
    "index = 0\n",
    "for exp in experiments:\n",
    "    exp_dir = os.path.join(ROOT_DIR, exp)\n",
    "    flow_path_stats_filename = os.path.join(exp_dir, \"flow-paths.stats.txt\")\n",
    "    path_length_by_fail_rate = parse_flow_path_stats_file(flow_path_stats_filename)\n",
    "    values_x = []\n",
    "    values_y = []\n",
    "    values_err = []\n",
    "    for fail_rate in sorted(path_length_by_fail_rate):\n",
    "        if fail_rate > 0.25:\n",
    "            break\n",
    "        path_length_array = path_length_by_fail_rate[fail_rate]\n",
    "        values_x.append(fail_rate)\n",
    "        values_y.append(np.average(path_length_array))\n",
    "        values_err.append(np.std(path_length_array))\n",
    "    if plot_percentage:\n",
    "        base_y = values_y[0]\n",
    "        values_y = (np.array(values_y) / base_y - 1) * 100\n",
    "        values_err = np.array(values_err) / base_y\n",
    "    values_x = np.array(values_x) * 100 # to percent\n",
    "    exp_name = get_exp_name(exp)\n",
    "    plot_errorbar(values_x, values_y, values_err, exp_name, color=COLORS[exp], marker=get_marker(MARKER_INDEX[exp]), fillstyle='none')\n",
    "    index += 1\n",
    "plt.legend(fontsize=14, loc='upper left')\n",
    "plt.xlabel('Percentage of failed links', fontsize=16)\n",
    "if plot_percentage:\n",
    "    plt.ylim(0, 24)\n",
    "    plt.ylabel('Percentage increase of path length', fontsize=16)\n",
    "else:\n",
    "    plt.ylim(1, 4)\n",
    "    plt.ylabel('Hop count', fontsize=16)\n",
    "ax = plt.gca()\n",
    "ax.xaxis.set_major_formatter(PercentFormatter(decimals=0))\n",
    "ax.yaxis.set_major_locator(MaxNLocator(integer=True))\n",
    "ax.yaxis.set_minor_locator(AutoMinorLocator())\n",
    "ax.yaxis.grid(True, alpha=0.5, linestyle='--')\n",
    "ax.tick_params(axis='both', which='major', labelsize=12)\n",
    "# ax.yaxis.grid(True, alpha=0.5, which='minor', linestyle='--')\n",
    "if save_figures:\n",
    "    plt.savefig('fault-tolerance.hop_count-vs-fail_rate.png')"
   ]
  }
 ],
 "metadata": {
  "kernelspec": {
   "display_name": "Python 3.9.12 ('base')",
   "language": "python",
   "name": "python3"
  },
  "language_info": {
   "codemirror_mode": {
    "name": "ipython",
    "version": 3
   },
   "file_extension": ".py",
   "mimetype": "text/x-python",
   "name": "python",
   "nbconvert_exporter": "python",
   "pygments_lexer": "ipython3",
   "version": "3.9.12"
  },
  "vscode": {
   "interpreter": {
    "hash": "1c686f18b94c7ac93143553ca22fc47dddb45e62f4fa825973de80c268de3ec5"
   }
  }
 },
 "nbformat": 4,
 "nbformat_minor": 4
}
